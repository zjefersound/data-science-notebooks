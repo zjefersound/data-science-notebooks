{
  "nbformat": 4,
  "nbformat_minor": 0,
  "metadata": {
    "colab": {
      "provenance": [],
      "authorship_tag": "ABX9TyNCOAfPjzdsk6jfDbTS2t6Z",
      "include_colab_link": true
    },
    "kernelspec": {
      "name": "python3",
      "display_name": "Python 3"
    },
    "language_info": {
      "name": "python"
    }
  },
  "cells": [
    {
      "cell_type": "markdown",
      "metadata": {
        "id": "view-in-github",
        "colab_type": "text"
      },
      "source": [
        "<a href=\"https://colab.research.google.com/github/zjefersound/data-science-notebooks/blob/main/TesteAB.ipynb\" target=\"_parent\"><img src=\"https://colab.research.google.com/assets/colab-badge.svg\" alt=\"Open In Colab\"/></a>"
      ]
    },
    {
      "cell_type": "code",
      "execution_count": 11,
      "metadata": {
        "colab": {
          "base_uri": "https://localhost:8080/"
        },
        "id": "TMqamGdYfy9t",
        "outputId": "a5d1c044-b52a-449f-af18-b79dd285a03b"
      },
      "outputs": [
        {
          "output_type": "stream",
          "name": "stdout",
          "text": [
            "Shapiro-Wilk - versão A: 0.9086138010594381\n",
            "Shapiro-Wilk - versão B: 0.7360156426535571\n",
            "Levene: 0.2606958702205091\n",
            "Valor-p: 0.0000\n",
            "Rejeitamos H0!\n",
            "Diferença estatisticamente significativa!\n"
          ]
        }
      ],
      "source": [
        "import numpy as np\n",
        "import pandas as pd\n",
        "from scipy import stats\n",
        "\n",
        "np.random.seed(42)\n",
        "\n",
        "# Dados simulados de duas versões de um site\n",
        "versao_A = np.random.normal(0.51, 0.03, 2000) # 0.12 média da distribuição normal (simula 12% taxa de conversão), desvio padrão 0.03\n",
        "versao_B = np.random.normal(0.14, 0.03, 2000) # 0.14 média da distribuição normal (simula 14% taxa de conversão), desvio padrão 0.03\n",
        "\n",
        "# Teste de normalidade\n",
        "print(\"Shapiro-Wilk - versão A:\", stats.shapiro(versao_A).pvalue) # p > 0,05, então os dados podem ser considerados normais\n",
        "print(\"Shapiro-Wilk - versão B:\", stats.shapiro(versao_B).pvalue) # p > 0,05, então os dados podem ser considerados normais\n",
        "\n",
        "# Teste de homogeneidade de variância\n",
        "print(\"Levene:\", stats.levene(versao_A, versao_B).pvalue) # p > 0,05, as variâncias podem ser consideradas iguais\n",
        "\n",
        "# Como as duas condições para testes paramétricos foram atendidas (normalidade e variâncias homogêneas), realizamos um teste t de Student para amostras independentes\n",
        "t_stat, p_value = stats.ttest_ind(versao_A, versao_B)\n",
        "print(f\"Valor-p: {p_value:.4f}\")\n",
        "\n",
        "# Interpretação\n",
        "if p_value < 0.05:\n",
        "  print(\"Rejeitamos H0!\")\n",
        "  print(\"Diferença estatisticamente significativa!\")\n",
        "else:\n",
        "  print(\"Não há evidência suficiente para concluir diferença.\")"
      ]
    }
  ]
}